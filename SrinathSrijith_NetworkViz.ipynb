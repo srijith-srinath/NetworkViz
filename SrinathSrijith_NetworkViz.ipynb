{
 "cells": [
  {
   "cell_type": "code",
   "execution_count": 1,
   "metadata": {},
   "outputs": [],
   "source": [
    "import json\n",
    "import bqplot"
   ]
  },
  {
   "cell_type": "code",
   "execution_count": 2,
   "metadata": {},
   "outputs": [],
   "source": [
    "films = json.load(open(\"shared/sp18-is590dv/data/star_wars/films.json\"))"
   ]
  },
  {
   "cell_type": "code",
   "execution_count": 3,
   "metadata": {},
   "outputs": [],
   "source": [
    "chars = [\"Boba Fett\", \"Yoda\", \"Jabba Desilijic Tiure\", \"Darth Vader\", \"Obi-Wan Kenobi\",\n",
    "         \"Beru Whitesun lars\", \"Mon Mothma\"]"
   ]
  },
  {
   "cell_type": "code",
   "execution_count": 4,
   "metadata": {},
   "outputs": [],
   "source": [
    "char_input = json.load(open(\"shared/sp18-is590dv/data/star_wars/people.json\"))\n",
    "characters = {}\n",
    "for character in char_input:\n",
    "    characters[character['pk']] = character['fields']"
   ]
  },
  {
   "cell_type": "code",
   "execution_count": 5,
   "metadata": {},
   "outputs": [
    {
     "name": "stdout",
     "output_type": "stream",
     "text": [
      "A New Hope\n",
      "Darth Vader\n",
      "Beru Whitesun lars\n",
      "Obi-Wan Kenobi\n",
      "Jabba Desilijic Tiure\n",
      "\n",
      "The Empire Strikes Back\n",
      "Darth Vader\n",
      "Obi-Wan Kenobi\n",
      "Yoda\n",
      "Boba Fett\n",
      "\n",
      "Return of the Jedi\n",
      "Darth Vader\n",
      "Obi-Wan Kenobi\n",
      "Jabba Desilijic Tiure\n",
      "Yoda\n",
      "Boba Fett\n",
      "Mon Mothma\n",
      "\n",
      "The Phantom Menace\n",
      "Obi-Wan Kenobi\n",
      "Jabba Desilijic Tiure\n",
      "Yoda\n",
      "\n",
      "Attack of the Clones\n",
      "Beru Whitesun lars\n",
      "Obi-Wan Kenobi\n",
      "Yoda\n",
      "Boba Fett\n",
      "\n",
      "Revenge of the Sith\n",
      "Darth Vader\n",
      "Beru Whitesun lars\n",
      "Obi-Wan Kenobi\n",
      "Yoda\n",
      "\n"
     ]
    }
   ],
   "source": [
    "dict = {}\n",
    "films_char = []\n",
    "for film in films:\n",
    "    film_chars = film[\"fields\"][\"characters\"]\n",
    "    print(film[\"fields\"][\"title\"])\n",
    "    films_char.append(film[\"fields\"][\"title\"])\n",
    "    for character in film_chars:\n",
    "        if characters[character][\"name\"] in chars: print(characters[character][\"name\"])\n",
    "    print(\"\")"
   ]
  },
  {
   "cell_type": "code",
   "execution_count": 6,
   "metadata": {},
   "outputs": [
    {
     "data": {
      "text/plain": [
       "['A New Hope',\n",
       " 'The Empire Strikes Back',\n",
       " 'Return of the Jedi',\n",
       " 'The Phantom Menace',\n",
       " 'Attack of the Clones',\n",
       " 'Revenge of the Sith']"
      ]
     },
     "execution_count": 6,
     "metadata": {},
     "output_type": "execute_result"
    }
   ],
   "source": [
    "films_char"
   ]
  },
  {
   "cell_type": "code",
   "execution_count": 7,
   "metadata": {},
   "outputs": [
    {
     "data": {
      "application/vnd.jupyter.widget-view+json": {
       "model_id": "2947f2c2682648cbad808e867564546d",
       "version_major": 2,
       "version_minor": 0
      },
      "text/plain": [
       "Figure(fig_margin={'top': 60, 'bottom': 60, 'left': 60, 'right': 60}, layout=Layout(min_width='125px'), marks=…"
      ]
     },
     "metadata": {},
     "output_type": "display_data"
    },
    {
     "name": "stdout",
     "output_type": "stream",
     "text": [
      "{'event': 'element_click', 'data': {'label': 'Mon Mothma', 'media': 'Star Wars', 'label_display': 'center', 'shape': 'circle', 'shape_attrs': {'r': 15}, 'value': None, 'index': 6, 'weight': 12, 'x': 283.85110581376637, 'y': 276.58625094840716, 'px': 283.85110581376637, 'py': 276.58625094840716, 'fixed': 0}}\n",
      "{'event': 'element_click', 'data': {'label': 'Obi-Wan Kenobi', 'media': 'Star Wars', 'label_display': 'center', 'shape': 'circle', 'shape_attrs': {'r': 15}, 'value': None, 'index': 4, 'weight': 50, 'x': 322.1700312790833, 'y': 317.45221655612903, 'px': 322.1700312790833, 'py': 317.45221655612903, 'fixed': 0}}\n"
     ]
    }
   ],
   "source": [
    "dict1 = {}\n",
    "node_data = []\n",
    "for i in chars:\n",
    "    dict1 = {\"label\": i , \"media\": \"Star Wars\"}\n",
    "    node_data.append(dict1.copy())\n",
    "\n",
    "\n",
    "source = []\n",
    "target = []\n",
    "link_data = []\n",
    "for film in films:\n",
    "    film_chars = film[\"fields\"][\"characters\"]\n",
    "    for character in film_chars:\n",
    "        source = characters[character][\"name\"]\n",
    "        if source not in chars: continue\n",
    "        for character in film_chars:\n",
    "            target = characters[character][\"name\"]\n",
    "            if target not in chars: continue\n",
    "            link_data.append({'source': chars.index(source), 'target': chars.index(target)})\n",
    "\n",
    "\n",
    "tooltip = bqplot.Tooltip(fields = [\"label\", \"media\"])\n",
    "graph = bqplot.Graph(node_data=node_data, link_data=link_data, tooltip = tooltip)\n",
    "\n",
    "def print_label(obj,label):\n",
    "    print(label)\n",
    "\n",
    "graph.on_element_click(print_label)\n",
    "\n",
    "fig = bqplot.Figure(marks = [graph])\n",
    "display(fig)"
   ]
  }
 ],
 "metadata": {
  "kernelspec": {
   "display_name": "Environment (conda_is590dv-default)",
   "language": "python",
   "name": "conda_is590dv-default"
  },
  "language_info": {
   "codemirror_mode": {
    "name": "ipython",
    "version": 3
   },
   "file_extension": ".py",
   "mimetype": "text/x-python",
   "name": "python",
   "nbconvert_exporter": "python",
   "pygments_lexer": "ipython3",
   "version": "3.6.6"
  }
 },
 "nbformat": 4,
 "nbformat_minor": 2
}
